{
 "cells": [
  {
   "cell_type": "markdown",
   "metadata": {},
   "source": [
    "# Number of Parks in Neighborhoods\n",
    "## By Jared Glickfield\n",
    "\n",
    "I chose to find the best neighborhood based on the number of parks in it. During the past few months parks have been a place where I have escaped my house and gone outside. Not during a pandemic, parks are central to a sense of community and provide green spaces for keys to play and have fun. Within a city, they often are high traffic areas and are very beautiful. I think that they are very necessary for a  community and would be a good metric to go off of. "
   ]
  },
  {
   "cell_type": "code",
   "execution_count": null,
   "metadata": {},
   "outputs": [],
   "source": [
    "# Import pandas for geojson manipulation\n",
    "# Import geopandas in order to use geojson and geometry objects\n",
    "# Import matplotlib to graph map\n",
    "# Import warnings cause an annoying warning was popping up \n",
    "import pandas as pd\n",
    "import geopandas as gpd\n",
    "import matplotlib.pyplot as plt\n",
    "import warnings\n",
    "warnings.filterwarnings(\"ignore\")"
   ]
  },
  {
   "cell_type": "code",
   "execution_count": null,
   "metadata": {},
   "outputs": [],
   "source": [
    "# Get files from file tree\n",
    "neighborhood = gpd.read_file(\"../Neighborhoods_.geojson\")\n",
    "parks = gpd.read_file(\"Pittsburgh_Parks.geojson\")\n",
    "neightborhood.head()\n",
    "parks.head()"
   ]
  },
  {
   "cell_type": "markdown",
   "metadata": {},
   "source": [
    "#### Correlating parks to neighborhoods"
   ]
  },
  {
   "cell_type": "code",
   "execution_count": null,
   "metadata": {},
   "outputs": [],
   "source": [
    "# See where parks are located\n",
    "parkNum = pd.DataFrame(neighborhood.objectid, columns=['objectid', 'parks'])\n",
    "for index, n in neighborhood.iterrows():\n",
    "    numOfParks = 0 \n",
    "    for index, p in parks.iterrows():\n",
    "        # Check each neighborhood and park for intersection\n",
    "        if n.geometry.intersects(p.geometry):\n",
    "            numOfParks += 1\n",
    "            parks.drop([index])\n",
    "    # If parks exist add num to new col in parkNum data frame\n",
    "    parkNum.at[parkNum[parkNum['objectid'] == n.objectid].index.values[0], 'parks'] = numOfParks\n",
    "\n",
    "# Place parks col into the neighborhood geojson to be used in map\n",
    "neighborhood.insert(1, 'parks', parkNum.parks)\n",
    "parks.plot(ax = neighborhood.plot(color = 'gray', figsize=(10, 10)))"
   ]
  },
  {
   "cell_type": "code",
   "execution_count": null,
   "metadata": {},
   "outputs": [],
   "source": [
    "neighborhood[['hood', 'parks']].sort_values('parks')"
   ]
  },
  {
   "cell_type": "code",
   "execution_count": null,
   "metadata": {},
   "outputs": [],
   "source": [
    "#### Hist Num or Parks vs Num of Neightborhoods"
   ]
  },
  {
   "cell_type": "code",
   "execution_count": null,
   "metadata": {},
   "outputs": [],
   "source": [
    "fig, ax = plt.subplots()\n",
    "ax.set_ylabel('Num of Neighborhoods')\n",
    "ax.set_xlabel('Num of Parks')\n",
    "plt.hist(neighborhood.parks, edgecolor = 'k', color = 'g')\n",
    "plt.show()"
   ]
  },
  {
   "cell_type": "markdown",
   "metadata": {},
   "source": [
    "#### Final Map"
   ]
  },
  {
   "cell_type": "code",
   "execution_count": null,
   "metadata": {},
   "outputs": [],
   "source": [
    "# Creat the plot and set its size\n",
    "fig, ax = plt.subplots(figsize=(15, 15))\n",
    "\n",
    "# Find the center of each neighborhood\n",
    "neighborhood['center']= neighborhood.geometry.centroid\n",
    "\n",
    "# Copy neighborhood so it doesn't confict when ploting\n",
    "neighborhoodPts = neighborhood.copy()\n",
    "# Make a new geometry for center of shape\n",
    "neighborhoodPts.set_geometry(\"center\", inplace = True)\n",
    "\n",
    "# For each row set a name at a point\n",
    "for x, y, label in zip(neighborhoodPts.geometry.x, neighborhoodPts.geometry.y, neighborhood.hood):\n",
    "    plt.text(x, y, label, fontsize = 7.5, ha = 'center', weight = '525')\n",
    "    \n",
    "# Plot the map on ax with colors based off the number of parks\n",
    "neighborhood.plot(column='parks', ax=ax, legend=True, cmap = 'RdYlGn')"
   ]
  },
  {
   "cell_type": "markdown",
   "metadata": {},
   "source": [
    "Based on my findings the **Central Buisness District** with 12 parks and **East Liberty** with 11 are the two best neighborhoods to be in. Most neighborhoods  had 3 or less parks. Going based of my metric the **Central Buisness District** is the best neighborhood."
   ]
  },
  {
   "cell_type": "code",
   "execution_count": null,
   "metadata": {},
   "outputs": [],
   "source": []
  }
 ],
 "metadata": {
  "kernelspec": {
   "display_name": "Python 3",
   "language": "python",
   "name": "python3"
  },
  "language_info": {
   "codemirror_mode": {
    "name": "ipython",
    "version": 3
   },
   "file_extension": ".py",
   "mimetype": "text/x-python",
   "name": "python",
   "nbconvert_exporter": "python",
   "pygments_lexer": "ipython3",
   "version": "3.8.3"
  }
 },
 "nbformat": 4,
 "nbformat_minor": 4
}
